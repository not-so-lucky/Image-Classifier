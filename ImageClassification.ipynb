{
 "cells": [
  {
   "cell_type": "code",
   "execution_count": 41,
   "id": "d63c16e3",
   "metadata": {},
   "outputs": [
    {
     "name": "stdout",
     "output_type": "stream",
     "text": [
      "Requirement already satisfied: bing-image-downloader in /home/lucky/miniconda3/envs/ds_env/lib/python3.9/site-packages (1.1.1)\r\n"
     ]
    }
   ],
   "source": [
    "!pip install bing-image-downloader #library for image scrapping"
   ]
  },
  {
   "cell_type": "code",
   "execution_count": 42,
   "id": "c4114a51",
   "metadata": {},
   "outputs": [
    {
     "name": "stdout",
     "output_type": "stream",
     "text": [
      "mkdir: cannot create directory ‘images’: File exists\r\n"
     ]
    }
   ],
   "source": [
    "!mkdir images"
   ]
  },
  {
   "cell_type": "code",
   "execution_count": 8,
   "id": "b6488f86",
   "metadata": {},
   "outputs": [
    {
     "name": "stdout",
     "output_type": "stream",
     "text": [
      "[%] Downloading Images to /home/lucky/Desktop/Projects/New/images/pretty sunflower\n",
      "\n",
      "\n",
      "[!!]Indexing page: 1\n",
      "\n",
      "[%] Indexed 30 Images on Page 1.\n",
      "\n",
      "===============================================\n",
      "\n",
      "[%] Downloading Image #1 from https://pixfeeds.com/images/flowers/sunflowers/1280-506587098-beautiful-sunflower.jpg\n",
      "[%] File Downloaded !\n",
      "\n",
      "[%] Downloading Image #2 from https://i.pinimg.com/originals/f7/0d/11/f70d11647628b048be42a5b0df480a8b.jpg\n",
      "[%] File Downloaded !\n",
      "\n",
      "[%] Downloading Image #3 from https://i.pinimg.com/originals/f0/a0/dc/f0a0dc28c43f3347839073cca55eb189.jpg\n",
      "[%] File Downloaded !\n",
      "\n",
      "[%] Downloading Image #4 from https://i.pinimg.com/originals/8f/01/07/8f010762b0332278dd6b8d6c9923591a.jpg\n",
      "[%] File Downloaded !\n",
      "\n",
      "[%] Downloading Image #5 from https://i.pinimg.com/originals/ae/dc/b4/aedcb4cfe5cc804bd93fa7397285ab69.jpg\n",
      "[%] File Downloaded !\n",
      "\n",
      "[%] Downloading Image #6 from https://i.pinimg.com/736x/24/91/34/24913484791991a13f6b644ab1366f3a--the-sunflower-kansas.jpg\n",
      "[%] File Downloaded !\n",
      "\n",
      "[%] Downloading Image #7 from https://i.pinimg.com/736x/2e/ff/86/2eff86c8d43e309fbc885425d7ee0988--field-of-sunflowers-sun-flowers.jpg\n",
      "[%] File Downloaded !\n",
      "\n",
      "[%] Downloading Image #8 from https://i.pinimg.com/originals/28/64/0b/28640bb3517270d7670f2ad294ddd6ab.jpg\n",
      "[%] File Downloaded !\n",
      "\n",
      "[%] Downloading Image #9 from https://i.pinimg.com/originals/97/76/a4/9776a4956d8f3def3d608ce0eb2c4056.jpg\n",
      "[%] File Downloaded !\n",
      "\n",
      "[%] Downloading Image #10 from https://i.pinimg.com/originals/91/39/52/913952e8f81e8faa94481bda88e4dfba.jpg\n",
      "[%] File Downloaded !\n",
      "\n",
      "[%] Downloading Image #11 from https://i.pinimg.com/originals/4c/fb/f1/4cfbf1430624cb6d446b3389d51da812.jpg\n",
      "[%] File Downloaded !\n",
      "\n",
      "[%] Downloading Image #12 from https://i.pinimg.com/originals/9d/b2/67/9db26756c3de0663eabd13fcbaba7fa1.jpg\n",
      "[%] File Downloaded !\n",
      "\n",
      "[%] Downloading Image #13 from https://i.pinimg.com/originals/ab/53/8a/ab538afe1d7bddf5054cc8658f785b17.jpg\n",
      "[%] File Downloaded !\n",
      "\n",
      "[%] Downloading Image #14 from https://res.cloudinary.com/teepublic/image/private/s--7wIq5PaD--/t_Preview/b_rgb:191919,c_limit,f_auto,h_630,q_90,w_630/v1553986139/production/designs/4532530_0.jpg\n",
      "[%] File Downloaded !\n",
      "\n",
      "[%] Downloading Image #15 from https://i.pinimg.com/originals/d6/65/0d/d6650dfbe09a374d2a6f4fdca2f8a9f6.jpg\n",
      "[%] File Downloaded !\n",
      "\n",
      "[%] Downloading Image #16 from https://i.pinimg.com/originals/4f/82/ba/4f82ba183fc51948ad4e5143f31e8e07.jpg\n",
      "[%] File Downloaded !\n",
      "\n",
      "[%] Downloading Image #17 from https://i.pinimg.com/originals/cd/c5/de/cdc5deaac630ce8a6f1f3ccaabc96a77.jpg\n",
      "[%] File Downloaded !\n",
      "\n",
      "[%] Downloading Image #18 from https://i.pinimg.com/originals/8f/70/e2/8f70e2ae4eeff41420d73a8731eb395f.jpg\n",
      "[%] File Downloaded !\n",
      "\n",
      "[%] Downloading Image #19 from https://i2.wp.com/pistoncars.com/wp-content/uploads/2017/08/Beautiful-Sunflower-Garden-Photos-Gallery-40.jpg?w=726&amp;h=1017&amp;ssl=1\n",
      "[%] File Downloaded !\n",
      "\n",
      "[%] Downloading Image #20 from https://i.pinimg.com/originals/5a/70/49/5a70497d32b8d691cb2273b53eb987a8.jpg\n",
      "[%] File Downloaded !\n",
      "\n",
      "[%] Downloading Image #21 from https://i.pinimg.com/originals/75/ad/3f/75ad3f4512a7cfd54b272a2e6ee73c46.jpg\n",
      "[%] File Downloaded !\n",
      "\n",
      "[%] Downloading Image #22 from https://i.pinimg.com/736x/42/cf/c7/42cfc769dc02aced51866694aa9bac9c--sunflowers-sunshine.jpg\n",
      "[%] File Downloaded !\n",
      "\n",
      "[%] Downloading Image #23 from http://3.bp.blogspot.com/-OtTngUp5dZs/TXZrBHvy6cI/AAAAAAAAAVI/qvvElE8u6dA/s1600/sunflower_wallpaper_1024x768.jpg\n",
      "[%] File Downloaded !\n",
      "\n",
      "[%] Downloading Image #24 from https://i0.wp.com/howlifestyles.com/wp-content/uploads/2020/06/Sunflowers_20200510.jpg?fit=800%2C1000&amp;ssl=1\n",
      "[%] File Downloaded !\n",
      "\n",
      "[%] Downloading Image #25 from https://i.pinimg.com/originals/ee/a8/9b/eea89b43a81ed8b866536301017cca05.jpg\n",
      "[%] File Downloaded !\n",
      "\n",
      "[%] Downloading Image #26 from https://i.pinimg.com/originals/52/a1/b6/52a1b6068b912c6b626b2d6aa7815000.jpg\n",
      "[%] File Downloaded !\n",
      "\n",
      "[%] Downloading Image #27 from https://i.pinimg.com/originals/3f/72/43/3f724320cdf7b8362d54966df15308cc.jpg\n",
      "[%] File Downloaded !\n",
      "\n",
      "[%] Downloading Image #28 from https://valeaston.typepad.com/.a/6a011168642488970c014e89a058ab970d-800wi\n",
      "[%] File Downloaded !\n",
      "\n",
      "[%] Downloading Image #29 from https://i.pinimg.com/originals/f1/f7/77/f1f777383859b6d60a04b0dcdf7b08a4.jpg\n",
      "[%] File Downloaded !\n",
      "\n",
      "[%] Downloading Image #30 from https://i.pinimg.com/originals/04/8a/5c/048a5c3dbd980942a106d52a71111a97.jpg\n",
      "[%] File Downloaded !\n",
      "\n",
      "\n",
      "\n",
      "[%] Done. Downloaded 30 images.\n",
      "===============================================\n",
      "\n",
      "Please show your support here\n",
      "https://www.buymeacoffee.com/gurugaurav\n",
      "\n",
      "===============================================\n",
      "\n"
     ]
    }
   ],
   "source": [
    "from bing_image_downloader import downloader\n",
    "downloader.download(\"pretty sunflower\", limit=30, output_dir='images',\n",
    "                   adult_filter_off=True)"
   ]
  },
  {
   "cell_type": "code",
   "execution_count": 9,
   "id": "b5e74d74",
   "metadata": {
    "scrolled": false
   },
   "outputs": [
    {
     "name": "stdout",
     "output_type": "stream",
     "text": [
      "[%] Downloading Images to /home/lucky/Desktop/Projects/New/images/rugby ball\n",
      "\n",
      "\n",
      "[!!]Indexing page: 1\n",
      "\n",
      "[%] Indexed 30 Images on Page 1.\n",
      "\n",
      "===============================================\n",
      "\n",
      "[%] Downloading Image #1 from https://www.rugbystore.co.uk/wso/images/library/48427805-side1-72dpi-rgb.jpg?view=976&amp;v=637153728600000000\n",
      "[%] File Downloaded !\n",
      "\n",
      "[%] Downloading Image #2 from https://www.cathryncariad.com/uploads/5/0/7/9/5079686/s330083002289802700_p249_i34_w2466.jpeg\n",
      "[%] File Downloaded !\n",
      "\n",
      "[%] Downloading Image #3 from https://www.rugbystore.co.uk/wso/images/library/gow-017378-front-72dpi-rgb.jpg?view=976&amp;v=636547382400000000\n",
      "[%] File Downloaded !\n",
      "\n",
      "[%] Downloading Image #4 from https://contents.mediadecathlon.com/p1909914/k$1429c39478869b340f1c179d86c0df8f/1920x0/2784pt1856/4640xcr3712/default.jpg\n",
      "[%] File Downloaded !\n",
      "\n",
      "[%] Downloading Image #5 from https://www.cathryncariad.com/uploads/5/0/7/9/5079686/s330083002289802700_p249_i37_w2560.jpeg\n",
      "[%] File Downloaded !\n",
      "\n",
      "[%] Downloading Image #6 from https://www.rugbystore.co.uk/wso/images/library/41035901-front-72dpi-rgb.jpg?view=976&amp;v=636959524200000000\n",
      "[%] File Downloaded !\n",
      "\n",
      "[%] Downloading Image #7 from https://i.ebayimg.com/images/g/0IwAAOSwoPJeQZ2n/s-l600.jpg\n",
      "[%] File Downloaded !\n",
      "\n",
      "[%] Downloading Image #8 from https://www.rugbystore.co.uk/wso/images/library/45088905-front-72dpi-rgb.jpg?view=976&amp;v=636991274400000000\n",
      "[%] File Downloaded !\n",
      "\n",
      "[%] Downloading Image #9 from https://i.pinimg.com/originals/4e/49/03/4e49035b628c830dfb01b6dbea1ebc1b.jpg\n",
      "[%] File Downloaded !\n",
      "\n",
      "[%] Downloading Image #10 from https://www.rugbystore.co.uk/wso/images/library/b000102-a70-detail2-72dpi-rgb.jpg?view=976&amp;v=637426011000000000\n",
      "[Error]Invalid image, not saving https://www.rugbystore.co.uk/wso/images/library/b000102-a70-detail2-72dpi-rgb.jpg?view=976&amp;v=637426011000000000\n",
      "\n",
      "[!] Issue getting: https://www.rugbystore.co.uk/wso/images/library/b000102-a70-detail2-72dpi-rgb.jpg?view=976&amp;v=637426011000000000\n",
      "[!] Error:: Invalid image, not saving https://www.rugbystore.co.uk/wso/images/library/b000102-a70-detail2-72dpi-rgb.jpg?view=976&amp;v=637426011000000000\n",
      "\n",
      "[%] Downloading Image #10 from https://i.ebayimg.com/images/g/VSsAAOSw0AxeQntS/s-l600.jpg\n",
      "[%] File Downloaded !\n",
      "\n",
      "[%] Downloading Image #11 from https://contents.mediadecathlon.com/p1564881/k$572d0dbd31c72b1aac9431ee4ae3d05c/1180x0/1181pt1181/2362xcr1528/default.jpg\n",
      "[%] File Downloaded !\n",
      "\n",
      "[%] Downloading Image #12 from https://www.rugbystore.co.uk/wso/images/library/bal21-front-72dpi-rgb.jpg?view=976&amp;v=637466652000000000\n",
      "[Error]Invalid image, not saving https://www.rugbystore.co.uk/wso/images/library/bal21-front-72dpi-rgb.jpg?view=976&amp;v=637466652000000000\n",
      "\n",
      "[!] Issue getting: https://www.rugbystore.co.uk/wso/images/library/bal21-front-72dpi-rgb.jpg?view=976&amp;v=637466652000000000\n",
      "[!] Error:: Invalid image, not saving https://www.rugbystore.co.uk/wso/images/library/bal21-front-72dpi-rgb.jpg?view=976&amp;v=637466652000000000\n",
      "\n",
      "[%] Downloading Image #12 from https://i.pinimg.com/originals/4e/6e/8e/4e6e8ec819ed65e7f7e923b79943df13.jpg\n",
      "[%] File Downloaded !\n",
      "\n",
      "[%] Downloading Image #13 from https://www.rugbystore.co.uk/wso/images/library/q-b000098-001-detail3-72dpi-rgb.jpg?view=976&amp;v=637394714400000000\n",
      "[Error]Invalid image, not saving https://www.rugbystore.co.uk/wso/images/library/q-b000098-001-detail3-72dpi-rgb.jpg?view=976&amp;v=637394714400000000\n",
      "\n",
      "[!] Issue getting: https://www.rugbystore.co.uk/wso/images/library/q-b000098-001-detail3-72dpi-rgb.jpg?view=976&amp;v=637394714400000000\n",
      "[!] Error:: Invalid image, not saving https://www.rugbystore.co.uk/wso/images/library/q-b000098-001-detail3-72dpi-rgb.jpg?view=976&amp;v=637394714400000000\n",
      "\n",
      "[%] Downloading Image #13 from https://www.prodirectrugby.com/productimages/V3_1_Main/V3_1_Main_0321920.jpg\n",
      "[!] Issue getting: https://www.prodirectrugby.com/productimages/V3_1_Main/V3_1_Main_0321920.jpg\n",
      "[!] Error:: HTTP Error 403: Forbidden\n",
      "[%] Downloading Image #13 from https://www.hawk-sports.com/wp-content/uploads/2018/12/0704648154698.PT02.jpg\n",
      "[%] File Downloaded !\n",
      "\n",
      "[%] Downloading Image #14 from https://i.ebayimg.com/images/i/273071958370-0-1/s-l1000.jpg\n",
      "[%] File Downloaded !\n",
      "\n",
      "[%] Downloading Image #15 from https://i.pinimg.com/originals/97/af/d2/97afd2912fcdbed61e7d2dde52a9a2bf.jpg\n",
      "[%] File Downloaded !\n",
      "\n",
      "[%] Downloading Image #16 from https://cdn.shopify.com/s/files/1/0043/7429/8696/products/Jungle_Rugby_Ball_-_Monkey_2_1800x1800.jpg?v=1569266762\n",
      "[!] Issue getting: https://cdn.shopify.com/s/files/1/0043/7429/8696/products/Jungle_Rugby_Ball_-_Monkey_2_1800x1800.jpg?v=1569266762\n",
      "[!] Error:: HTTP Error 404: Not Found\n",
      "[%] Downloading Image #16 from https://i.ebayimg.com/images/g/w00AAOSwQOFeQjUz/s-l600.jpg\n",
      "[%] File Downloaded !\n",
      "\n",
      "[%] Downloading Image #17 from https://i.ebayimg.com/images/g/u7cAAOSwptxcvM5j/s-l640.jpg\n",
      "[%] File Downloaded !\n",
      "\n",
      "[%] Downloading Image #18 from https://www.rugbystore.co.uk/wso/images/library/q-b000098-001-detail2-72dpi-rgb.jpg?view=976&amp;v=637394714400000000\n",
      "[Error]Invalid image, not saving https://www.rugbystore.co.uk/wso/images/library/q-b000098-001-detail2-72dpi-rgb.jpg?view=976&amp;v=637394714400000000\n",
      "\n",
      "[!] Issue getting: https://www.rugbystore.co.uk/wso/images/library/q-b000098-001-detail2-72dpi-rgb.jpg?view=976&amp;v=637394714400000000\n",
      "[!] Error:: Invalid image, not saving https://www.rugbystore.co.uk/wso/images/library/q-b000098-001-detail2-72dpi-rgb.jpg?view=976&amp;v=637394714400000000\n",
      "\n",
      "[%] Downloading Image #18 from https://i.ebayimg.com/images/i/122692797877-0-1/s-l1000.jpg\n",
      "[%] File Downloaded !\n",
      "\n",
      "[%] Downloading Image #19 from https://www.rugbystore.co.uk/wso/images/library/45076205-side1-72dpi-rgb.jpg?view=976&amp;v=636461634600000000\n",
      "[%] File Downloaded !\n",
      "\n",
      "[%] Downloading Image #20 from https://www.prodirectrugby.com/productimages/V3_1_Main/V3_1_Main_0300669.jpg\n",
      "[!] Issue getting: https://www.prodirectrugby.com/productimages/V3_1_Main/V3_1_Main_0300669.jpg\n",
      "[!] Error:: HTTP Error 403: Forbidden\n",
      "[%] Downloading Image #20 from https://www.rugbystore.co.uk/wso/images/library/48418705-side1-72dpi-rgb.jpg3?view=976&amp;v=636675156600000000\n",
      "[%] File Downloaded !\n",
      "\n",
      "[%] Downloading Image #21 from https://www.ctsports.co.uk/media/catalog/product/s/o/south-africa-replica-rugby-ball.jpg\n",
      "[%] File Downloaded !\n",
      "\n",
      "[%] Downloading Image #22 from https://i.ebayimg.com/images/g/JvYAAOSwao1bFYa9/s-l640.jpg\n",
      "[%] File Downloaded !\n",
      "\n",
      "[%] Downloading Image #23 from https://www.prodirectrugby.com/productimages/V3_1_Main/V3_1_Main_0278460.jpg?imwidth=375\n",
      "[!] Issue getting: https://www.prodirectrugby.com/productimages/V3_1_Main/V3_1_Main_0278460.jpg?imwidth=375\n",
      "[!] Error:: HTTP Error 403: Forbidden\n",
      "\n",
      "\n",
      "[!!]Indexing page: 2\n",
      "\n",
      "[%] Indexed 35 Images on Page 2.\n",
      "\n",
      "===============================================\n",
      "\n",
      "[%] Downloading Image #23 from https://www.rugbystore.co.uk/wso/images/library/48427805-side1-72dpi-rgb.jpg?view=976&amp;v=637153728600000000\n",
      "[%] File Downloaded !\n",
      "\n",
      "[%] Downloading Image #24 from https://www.cathryncariad.com/uploads/5/0/7/9/5079686/s330083002289802700_p249_i34_w2466.jpeg\n",
      "[%] File Downloaded !\n",
      "\n",
      "[%] Downloading Image #25 from https://www.rugbystore.co.uk/wso/images/library/gow-017378-front-72dpi-rgb.jpg?view=976&amp;v=636547382400000000\n",
      "[%] File Downloaded !\n",
      "\n",
      "[%] Downloading Image #26 from https://www.rugbystore.co.uk/wso/images/library/41035901-front-72dpi-rgb.jpg?view=976&amp;v=636959524200000000\n",
      "[%] File Downloaded !\n",
      "\n",
      "[%] Downloading Image #27 from https://contents.mediadecathlon.com/p1909914/k$1429c39478869b340f1c179d86c0df8f/1920x0/2784pt1856/4640xcr3712/default.jpg\n",
      "[%] File Downloaded !\n",
      "\n",
      "[%] Downloading Image #28 from https://www.cathryncariad.com/uploads/5/0/7/9/5079686/s330083002289802700_p249_i37_w2560.jpeg\n",
      "[%] File Downloaded !\n",
      "\n",
      "[%] Downloading Image #29 from https://i.ebayimg.com/images/g/0IwAAOSwoPJeQZ2n/s-l600.jpg\n",
      "[%] File Downloaded !\n",
      "\n",
      "[%] Downloading Image #30 from https://i.pinimg.com/originals/4e/49/03/4e49035b628c830dfb01b6dbea1ebc1b.jpg\n",
      "[%] File Downloaded !\n",
      "\n",
      "\n",
      "\n",
      "[%] Done. Downloaded 30 images.\n",
      "===============================================\n",
      "\n",
      "Please show your support here\n",
      "https://www.buymeacoffee.com/gurugaurav\n",
      "\n",
      "===============================================\n",
      "\n"
     ]
    }
   ],
   "source": [
    "downloader.download(\"rugby ball\", limit=30, output_dir='images',\n",
    "                   adult_filter_off=True)"
   ]
  },
  {
   "cell_type": "code",
   "execution_count": 5,
   "id": "e9dffc6f",
   "metadata": {},
   "outputs": [
    {
     "name": "stdout",
     "output_type": "stream",
     "text": [
      "[%] Downloading Images to /home/lucky/Desktop/Projects/New/images/ice cream cone\n",
      "\n",
      "\n",
      "[!!]Indexing page: 1\n",
      "\n",
      "[%] Indexed 30 Images on Page 1.\n",
      "\n",
      "===============================================\n",
      "\n",
      "[%] Downloading Image #1 from http://192u83g8gr23fc9rq2b896aj.wpengine.netdna-cdn.com/i/ice-cream-cone.jpg\n",
      "[!] Issue getting: http://192u83g8gr23fc9rq2b896aj.wpengine.netdna-cdn.com/i/ice-cream-cone.jpg\n",
      "[!] Error:: HTTP Error 404: Not Found\n",
      "[%] Downloading Image #1 from https://nationaltoday.com/wp-content/uploads/2019/09/national-ice-cream-cone-day.jpg\n",
      "[%] File Downloaded !\n",
      "\n",
      "[%] Downloading Image #2 from https://americacomesalive.com/i/Ice_cream_cone_.jpg\n",
      "[!] Issue getting: https://americacomesalive.com/i/Ice_cream_cone_.jpg\n",
      "[!] Error:: HTTP Error 403: Forbidden\n",
      "[%] Downloading Image #2 from https://i2.wp.com/lyssyinthecity.com/wp-content/uploads/2020/02/8SA28L11QbunDIOKo86Qhg.jpg?resize=770%2C1027&amp;ssl=1\n",
      "[%] File Downloaded !\n",
      "\n",
      "[%] Downloading Image #3 from http://graphics8.nytimes.com/images/2013/06/02/magazine/02wmt/02wmt-superJumbo-v3.jpg\n",
      "[%] File Downloaded !\n",
      "\n",
      "[%] Downloading Image #4 from https://img1.southernliving.timeinc.net/sites/default/files/styles/4_3_horizontal_-_1200x900/public/image/2017/07/main/ice-cream-cones.jpg?itok=9I9Q7gKA\n",
      "[%] File Downloaded !\n",
      "\n",
      "[%] Downloading Image #5 from http://www.thethings.com/wp-content/uploads/2016/05/dscf5161.jpg\n",
      "[%] File Downloaded !\n",
      "\n",
      "[%] Downloading Image #6 from http://www.mysunshineroom.com/_Media/dipped-ice-cream-cones-7_med_hr.jpeg\n",
      "[%] File Downloaded !\n",
      "\n",
      "[%] Downloading Image #7 from https://www.weekendnotes.com/im/001/07/ice-cream-0011.jpg\n",
      "[%] File Downloaded !\n",
      "\n",
      "[%] Downloading Image #8 from http://www.thethings.com/wp-content/uploads/2016/05/Love-From-The-Oven.jpg\n",
      "[%] File Downloaded !\n",
      "\n",
      "[%] Downloading Image #9 from https://cdn.ebs.newsner.com/wp-content/uploads/sites/11/2017/09/donutcone.jpg\n",
      "[%] File Downloaded !\n",
      "\n",
      "[%] Downloading Image #10 from http://www.imagineoutloud.net/uploads/3/9/7/7/39773846/s432273583225059501_p956_i20_w2560.jpeg\n",
      "[%] File Downloaded !\n",
      "\n",
      "[%] Downloading Image #11 from http://cdn2.tikkido.com/sites/default/files/patriotic-ice-cream-cones-complete.jpg\n",
      "[%] File Downloaded !\n",
      "\n",
      "[%] Downloading Image #12 from http://www.kitcheninnovationsinc.com/wp-content/uploads/2014/07/J218DISP-Ice-Cream.png\n",
      "[%] File Downloaded !\n",
      "\n",
      "[%] Downloading Image #13 from https://www.sheknows.com/wp-content/uploads/2018/12/2-doughnut-ice-cream-cone.jpeg\n",
      "[%] File Downloaded !\n",
      "\n",
      "[%] Downloading Image #14 from https://heinimex.com/wp-content/uploads/2020/10/ice-cream-2.jpg\n",
      "[%] File Downloaded !\n",
      "\n",
      "[%] Downloading Image #15 from https://i.redd.it/i2jw6lc2iva31.jpg\n",
      "[%] File Downloaded !\n",
      "\n",
      "[%] Downloading Image #16 from http://www.imagineoutloud.net/uploads/3/9/7/7/39773846/s432273583225059501_p956_i18_w2560.jpeg\n",
      "[%] File Downloaded !\n",
      "\n",
      "[%] Downloading Image #17 from http://www.imagineoutloud.net/uploads/3/9/7/7/39773846/s432273583225059501_p956_i19_w2560.jpeg\n",
      "[%] File Downloaded !\n",
      "\n",
      "[%] Downloading Image #18 from https://assets-eu-01.kc-usercontent.com/559bb7d3-88a4-01c1-79a3-dd4d5b2d2bb0/d70bc9aa-85cc-4a28-a0c8-6a3bb8042afb/1-Ice-cream-cone-cupcakes.jpg\n",
      "[%] File Downloaded !\n",
      "\n",
      "[%] Downloading Image #19 from https://i.pinimg.com/originals/7f/6f/84/7f6f84a87ae92f866d43fb8dc6d56f88.jpg\n",
      "[%] File Downloaded !\n",
      "\n",
      "[%] Downloading Image #20 from http://del.h-cdn.co/assets/17/28/1499722556-screen-shot-2017-07-10-at-53410-pm.png\n",
      "[%] File Downloaded !\n",
      "\n",
      "[%] Downloading Image #21 from https://s1.hankr.com/images/i/fd54de35efb746f49063ff1e8b4c5313/Not_Licked_Yet_Ice_Cream_Cone_15.jpg\n",
      "[%] File Downloaded !\n",
      "\n",
      "[%] Downloading Image #22 from https://cdn.shopify.com/s/files/1/0061/1794/9553/products/nectar-bath-treats-large-yellow-ice-cream-cone-exfoliating-sponge-exfoliating-body-sponge-15059370639440_1800x1800.jpg?v=1588703631\n",
      "[%] File Downloaded !\n",
      "\n",
      "[%] Downloading Image #23 from https://www.imagineoutloud.net/uploads/3/9/7/7/39773846/s432273583225059501_p949_i18_w2560.jpeg\n",
      "[%] File Downloaded !\n",
      "\n",
      "[%] Downloading Image #24 from https://www.imagineoutloud.net/uploads/3/9/7/7/39773846/s432273583225059501_p963_i29_w2560.jpeg\n",
      "[%] File Downloaded !\n",
      "\n",
      "[%] Downloading Image #25 from https://www.thespruceeats.com/thmb/3zSpyarxfOBVAZS3CNJYOBGk26s=/3000x1687/smart/filters:no_upscale()/IceCreamConeCupcakesHERO-ef1da5f5b4be42129e420ad1b8088b9b.jpg\n",
      "[%] File Downloaded !\n",
      "\n",
      "[%] Downloading Image #26 from https://www.sheknows.com/wp-content/uploads/2018/08/cplmqhrwwtn4mosg7ea8.jpeg?w=555\n",
      "[%] File Downloaded !\n",
      "\n",
      "[%] Downloading Image #27 from http://www.imagineoutloud.net/uploads/3/9/7/7/39773846/s432273583225059501_p963_i30_w2560.jpeg\n",
      "[%] File Downloaded !\n",
      "\n",
      "[%] Downloading Image #28 from http://www.imagineoutloud.net/uploads/3/9/7/7/39773846/s432273583225059501_p572_i8_w2560.jpeg\n",
      "[%] File Downloaded !\n",
      "\n",
      "\n",
      "\n",
      "[!!]Indexing page: 2\n",
      "\n",
      "[%] Indexed 35 Images on Page 2.\n",
      "\n",
      "===============================================\n",
      "\n",
      "[%] Downloading Image #29 from http://192u83g8gr23fc9rq2b896aj.wpengine.netdna-cdn.com/i/ice-cream-cone.jpg\n",
      "[!] Issue getting: http://192u83g8gr23fc9rq2b896aj.wpengine.netdna-cdn.com/i/ice-cream-cone.jpg\n",
      "[!] Error:: HTTP Error 404: Not Found\n",
      "[%] Downloading Image #29 from https://nationaltoday.com/wp-content/uploads/2019/09/national-ice-cream-cone-day.jpg\n",
      "[%] File Downloaded !\n",
      "\n",
      "[%] Downloading Image #30 from https://americacomesalive.com/i/Ice_cream_cone_.jpg\n",
      "[!] Issue getting: https://americacomesalive.com/i/Ice_cream_cone_.jpg\n",
      "[!] Error:: HTTP Error 403: Forbidden\n",
      "[%] Downloading Image #30 from https://i2.wp.com/lyssyinthecity.com/wp-content/uploads/2020/02/8SA28L11QbunDIOKo86Qhg.jpg?resize=770%2C1027&amp;ssl=1\n",
      "[%] File Downloaded !\n",
      "\n",
      "\n",
      "\n",
      "[%] Done. Downloaded 30 images.\n",
      "===============================================\n",
      "\n",
      "Please show your support here\n",
      "https://www.buymeacoffee.com/gurugaurav\n",
      "\n",
      "===============================================\n",
      "\n"
     ]
    }
   ],
   "source": [
    "downloader.download(\"ice cream cone\", limit=30, output_dir='images',\n",
    "                   adult_filter_off=True)"
   ]
  },
  {
   "cell_type": "code",
   "execution_count": null,
   "id": "d7140b4e",
   "metadata": {},
   "outputs": [],
   "source": [
    "#To convert Matrix to Vector - flatten()\n",
    "\n",
    "# Preprocessing:\n",
    "# 1) Resize 2) Flatten\n",
    "\n",
    "import os\n",
    "import matplotlib.pyplot as plt\n",
    "import numpy as np\n",
    "from skimage.io import imread\n",
    "from skimage.transform import resize\n",
    "\n",
    "target = []\n",
    "images = []\n",
    "flat_data = []\n",
    "\n",
    "DATADIR = '/home/lucky/Desktop/Projects/Image Classification/images'\n",
    "CATEGORIES = ['pretty sunflower', 'rugby ball', 'ice cream cone']\n",
    "\n",
    "for category in CATEGORIES:\n",
    "    class_num = CATEGORIES.index(category) #Label Encoding\n",
    "    path = os.path.join(DATADIR, category) #path to use images\n",
    "    for img in os.listdir(path):\n",
    "        img_array = imread(os.path.join(path, img))\n",
    "        #print(img_array.shape) \n",
    "        #plt.imshow(img_array) To view an image\n",
    "        img_resized = resize(img_array, (150,150,3))\n",
    "        flat_data.append(img_resized.flatten())\n",
    "        images.append(img_resized)\n",
    "        target.append(class_num)\n",
    "        #break To view an image\n",
    "\n",
    "flat_data = np.array(flat_data)\n",
    "target = np.array(target)\n",
    "images = np.array(images)"
   ]
  },
  {
   "cell_type": "code",
   "execution_count": 9,
   "id": "d5cc412e",
   "metadata": {},
   "outputs": [
    {
     "data": {
      "text/plain": [
       "67500"
      ]
     },
     "execution_count": 9,
     "metadata": {},
     "output_type": "execute_result"
    }
   ],
   "source": [
    "len(flat_data[0])"
   ]
  },
  {
   "cell_type": "code",
   "execution_count": 10,
   "id": "c1e104c8",
   "metadata": {},
   "outputs": [
    {
     "data": {
      "text/plain": [
       "67500"
      ]
     },
     "execution_count": 10,
     "metadata": {},
     "output_type": "execute_result"
    }
   ],
   "source": [
    "150*150*3"
   ]
  },
  {
   "cell_type": "code",
   "execution_count": 11,
   "id": "cfd43ca3",
   "metadata": {},
   "outputs": [
    {
     "data": {
      "text/plain": [
       "array([0, 0, 0, 0, 0, 0, 0, 0, 0, 0, 0, 0, 0, 0, 0, 0, 0, 0, 0, 0, 0, 0,\n",
       "       0, 0, 0, 0, 0, 0, 0, 0, 1, 1, 1, 1, 1, 1, 1, 1, 1, 1, 1, 1, 1, 1,\n",
       "       1, 1, 1, 1, 1, 1, 1, 1, 1, 1, 1, 1, 1, 1, 1, 1, 2, 2, 2, 2, 2, 2,\n",
       "       2, 2, 2, 2, 2, 2, 2, 2, 2, 2, 2, 2, 2, 2, 2, 2, 2, 2, 2, 2, 2, 2,\n",
       "       2, 2])"
      ]
     },
     "execution_count": 11,
     "metadata": {},
     "output_type": "execute_result"
    }
   ],
   "source": [
    "target"
   ]
  },
  {
   "cell_type": "code",
   "execution_count": 13,
   "id": "9580eb7b",
   "metadata": {},
   "outputs": [
    {
     "data": {
      "text/plain": [
       "<BarContainer object of 3 artists>"
      ]
     },
     "execution_count": 13,
     "metadata": {},
     "output_type": "execute_result"
    },
    {
     "data": {
      "image/png": "[encoded data removed]",
      "text/plain": [
       "<Figure size 432x288 with 1 Axes>"
      ]
     },
     "metadata": {
      "needs_background": "light"
     },
     "output_type": "display_data"
    }
   ],
   "source": [
    "unique, count = np.unique(target, return_counts=True)\n",
    "plt.bar(CATEGORIES, count)"
   ]
  },
  {
   "cell_type": "code",
   "execution_count": 14,
   "id": "2a00f60b",
   "metadata": {},
   "outputs": [],
   "source": [
    "#Splitting data\n",
    "from sklearn.model_selection import train_test_split\n",
    "x_train, x_test, y_train, y_test = train_test_split(flat_data, target,\n",
    "                                                   test_size=0.3, random_state=109)"
   ]
  },
  {
   "cell_type": "code",
   "execution_count": 15,
   "id": "04e335d4",
   "metadata": {},
   "outputs": [
    {
     "data": {
      "text/plain": [
       "GridSearchCV(estimator=SVC(probability=True),\n",
       "             param_grid=[{'C': [1, 10, 100, 1000], 'kernel': ['linear']},\n",
       "                         {'C': [1, 10, 100, 1000], 'gamma': [0.001, 0.0001],\n",
       "                          'kernel': ['rbf']}])"
      ]
     },
     "execution_count": 15,
     "metadata": {},
     "output_type": "execute_result"
    }
   ],
   "source": [
    "from sklearn.model_selection import GridSearchCV\n",
    "from sklearn import svm\n",
    "param_grid = [\n",
    "                {'C':[1,10,100,1000], 'kernel':['linear']},\n",
    "                {'C':[1,10,100,1000], 'gamma':[0.001,0.0001], 'kernel':['rbf']},\n",
    "]\n",
    "\n",
    "svc = svm.SVC(probability=True)\n",
    "clf = GridSearchCV(svc, param_grid)\n",
    "clf.fit(x_train, y_train)"
   ]
  },
  {
   "cell_type": "code",
   "execution_count": 16,
   "id": "876502f0",
   "metadata": {},
   "outputs": [
    {
     "data": {
      "text/plain": [
       "array([1, 0, 1, 1, 0, 1, 0, 1, 2, 0, 1, 0, 1, 2, 0, 1, 2, 2, 0, 1, 0, 2,\n",
       "       2, 0, 0, 0, 1])"
      ]
     },
     "execution_count": 16,
     "metadata": {},
     "output_type": "execute_result"
    }
   ],
   "source": [
    "y_pred = clf.predict(x_test)\n",
    "y_pred"
   ]
  },
  {
   "cell_type": "code",
   "execution_count": 17,
   "id": "eaf2694e",
   "metadata": {},
   "outputs": [
    {
     "data": {
      "text/plain": [
       "array([1, 0, 1, 2, 2, 1, 0, 1, 1, 0, 1, 0, 1, 2, 2, 1, 2, 1, 0, 1, 2, 2,\n",
       "       2, 0, 0, 0, 1])"
      ]
     },
     "execution_count": 17,
     "metadata": {},
     "output_type": "execute_result"
    }
   ],
   "source": [
    "y_test"
   ]
  },
  {
   "cell_type": "code",
   "execution_count": 18,
   "id": "712f33f5",
   "metadata": {},
   "outputs": [],
   "source": [
    "from sklearn.metrics import accuracy_score, confusion_matrix"
   ]
  },
  {
   "cell_type": "code",
   "execution_count": 19,
   "id": "5683c796",
   "metadata": {},
   "outputs": [
    {
     "data": {
      "text/plain": [
       "0.7777777777777778"
      ]
     },
     "execution_count": 19,
     "metadata": {},
     "output_type": "execute_result"
    }
   ],
   "source": [
    "accuracy_score(y_pred, y_test)"
   ]
  },
  {
   "cell_type": "code",
   "execution_count": 20,
   "id": "6c461d16",
   "metadata": {},
   "outputs": [
    {
     "data": {
      "text/plain": [
       "array([[8, 0, 3],\n",
       "       [0, 9, 1],\n",
       "       [0, 2, 4]])"
      ]
     },
     "execution_count": 20,
     "metadata": {},
     "output_type": "execute_result"
    }
   ],
   "source": [
    "confusion_matrix(y_pred, y_test)"
   ]
  },
  {
   "cell_type": "code",
   "execution_count": 21,
   "id": "2e00e50d",
   "metadata": {},
   "outputs": [],
   "source": [
    "import pickle\n",
    "pickle.dump(clf,open('img_model.p', 'wb'))"
   ]
  },
  {
   "cell_type": "code",
   "execution_count": 22,
   "id": "4ca26433",
   "metadata": {},
   "outputs": [],
   "source": [
    "model = pickle.load(open('img_model.p', 'rb'))"
   ]
  },
  {
   "cell_type": "code",
   "execution_count": 27,
   "id": "0d7654ec",
   "metadata": {},
   "outputs": [
    {
     "name": "stdout",
     "output_type": "stream",
     "text": [
      "Enter your URLhttps://5.imimg.com/data5/TO/DE/II/SELLER-53811964/ice-cream-cone-500x500.jpg\n",
      "(500, 500, 3)\n",
      " PREDICTED OUTPUT: ice cream cone\n"
     ]
    },
    {
     "data": {
      "image/png": "[encoded data removed]",
      "text/plain": [
       "<Figure size 432x288 with 1 Axes>"
      ]
     },
     "metadata": {
      "needs_background": "light"
     },
     "output_type": "display_data"
    }
   ],
   "source": [
    "#Test\n",
    "flat_data = []\n",
    "url = input('Enter your URL')\n",
    "img = imread(url)\n",
    "img_resized = resize(img, (150,150,3))\n",
    "flat_data.append(img_resized.flatten())\n",
    "flat_data = np.array(flat_data)\n",
    "print(img.shape)\n",
    "plt.imshow(img_resized)\n",
    "y_out = model.predict(flat_data)\n",
    "y_out = CATEGORIES[y_out[0]]\n",
    "print(f' PREDICTED OUTPUT: {y_out}')"
   ]
  },
  {
   "cell_type": "code",
   "execution_count": 43,
   "id": "b9c5dab8",
   "metadata": {},
   "outputs": [],
   "source": [
    "##Deployment\n",
    "from pyngrok import ngrok"
   ]
  },
  {
   "cell_type": "code",
   "execution_count": 52,
   "id": "15c1d17e",
   "metadata": {},
   "outputs": [
    {
     "name": "stdout",
     "output_type": "stream",
     "text": [
      "Overwriting app.py\n"
     ]
    }
   ],
   "source": [
    "%%writefile app.py\n",
    "import streamlit as st\n",
    "import numpy as np\n",
    "from skimage.io import imread\n",
    "from skimage.transform import resize\n",
    "import pickle\n",
    "from PIL import Image\n",
    "st.set_option('deprecation.showfileUploaderEncoding', False)\n",
    "st.title('Image Classifier')\n",
    "st.text('Upload Image')\n",
    "\n",
    "model = pickle.load(open('img_model.p', 'rb'))\n",
    "\n",
    "uploaded_file = st.file_uploader(\"Choose an image...\", type='jpg')\n",
    "if uploaded_file is not None:\n",
    "    img = Image.open(uploaded_file)\n",
    "    st.image(img,caption='Uploaded Image')\n",
    "    \n",
    "    if st.button('PREDICT'):\n",
    "        CATEGORIES = ['pretty sunflower', 'rugby ball', 'ice cream cone']\n",
    "        st.write('Result...')\n",
    "        flat_data=[]\n",
    "        img = np.array(img)\n",
    "        img_resized = resize(img, (150,150,3))\n",
    "        flat_data.append(img_resized.flatten())\n",
    "        flat_data = np.array(flat_data)\n",
    "        y_out = model.predict(flat_data)\n",
    "        y_out = CATEGORIES[y_out[0]]\n",
    "        st.title(f' PREDICTED OUTPUT: {y_out}')\n",
    "        q = model.predict_proba(flat_data)\n",
    "        for index, item in enumerate(CATEGORIES):\n",
    "            st.write(f'{item} : {q[0][index]*100}%')"
   ]
  },
  {
   "cell_type": "code",
   "execution_count": 45,
   "id": "b1b61948",
   "metadata": {},
   "outputs": [
    {
     "ename": "OSError",
     "evalue": "Background processes not supported.",
     "output_type": "error",
     "traceback": [
      "\u001b[0;31m---------------------------------------------------------------------------\u001b[0m",
      "\u001b[0;31mOSError\u001b[0m                                   Traceback (most recent call last)",
      "\u001b[0;32m/tmp/ipykernel_9419/1153626633.py\u001b[0m in \u001b[0;36m<module>\u001b[0;34m\u001b[0m\n\u001b[0;32m----> 1\u001b[0;31m \u001b[0mget_ipython\u001b[0m\u001b[0;34m(\u001b[0m\u001b[0;34m)\u001b[0m\u001b[0;34m.\u001b[0m\u001b[0msystem\u001b[0m\u001b[0;34m(\u001b[0m\u001b[0;34m'nohup streamlit run app.py &'\u001b[0m\u001b[0;34m)\u001b[0m\u001b[0;34m\u001b[0m\u001b[0;34m\u001b[0m\u001b[0m\n\u001b[0m\u001b[1;32m      2\u001b[0m \u001b[0;34m\u001b[0m\u001b[0m\n\u001b[1;32m      3\u001b[0m \u001b[0murl\u001b[0m \u001b[0;34m=\u001b[0m \u001b[0mngrok\u001b[0m\u001b[0;34m.\u001b[0m\u001b[0mconnect\u001b[0m\u001b[0;34m(\u001b[0m\u001b[0mport\u001b[0m\u001b[0;34m=\u001b[0m\u001b[0;34m'8501'\u001b[0m\u001b[0;34m)\u001b[0m\u001b[0;34m\u001b[0m\u001b[0;34m\u001b[0m\u001b[0m\n\u001b[1;32m      4\u001b[0m \u001b[0murl\u001b[0m\u001b[0;34m\u001b[0m\u001b[0;34m\u001b[0m\u001b[0m\n",
      "\u001b[0;32m~/miniconda3/envs/ds_env/lib/python3.9/site-packages/ipykernel/zmqshell.py\u001b[0m in \u001b[0;36msystem_piped\u001b[0;34m(self, cmd)\u001b[0m\n\u001b[1;32m    619\u001b[0m             \u001b[0;31m# os.system() or use ip.system=ip.system_raw\u001b[0m\u001b[0;34m\u001b[0m\u001b[0;34m\u001b[0m\u001b[0;34m\u001b[0m\u001b[0m\n\u001b[1;32m    620\u001b[0m             \u001b[0;31m# if they really want a background process.\u001b[0m\u001b[0;34m\u001b[0m\u001b[0;34m\u001b[0m\u001b[0;34m\u001b[0m\u001b[0m\n\u001b[0;32m--> 621\u001b[0;31m             \u001b[0;32mraise\u001b[0m \u001b[0mOSError\u001b[0m\u001b[0;34m(\u001b[0m\u001b[0;34m\"Background processes not supported.\"\u001b[0m\u001b[0;34m)\u001b[0m\u001b[0;34m\u001b[0m\u001b[0;34m\u001b[0m\u001b[0m\n\u001b[0m\u001b[1;32m    622\u001b[0m \u001b[0;34m\u001b[0m\u001b[0m\n\u001b[1;32m    623\u001b[0m         \u001b[0;31m# we explicitly do NOT return the subprocess status code, because\u001b[0m\u001b[0;34m\u001b[0m\u001b[0;34m\u001b[0m\u001b[0;34m\u001b[0m\u001b[0m\n",
      "\u001b[0;31mOSError\u001b[0m: Background processes not supported."
     ]
    }
   ],
   "source": [
    "!nohup streamlit run app.py &\n",
    "\n",
    "url = ngrok.connect(port='8501')\n",
    "url"
   ]
  },
  {
   "cell_type": "code",
   "execution_count": null,
   "id": "08189f70",
   "metadata": {},
   "outputs": [],
   "source": []
  }
 ],
 "metadata": {
  "kernelspec": {
   "display_name": "Python 3 (ipykernel)",
   "language": "python",
   "name": "python3"
  },
  "language_info": {
   "codemirror_mode": {
    "name": "ipython",
    "version": 3
   },
   "file_extension": ".py",
   "mimetype": "text/x-python",
   "name": "python",
   "nbconvert_exporter": "python",
   "pygments_lexer": "ipython3",
   "version": "3.9.6"
  }
 },
 "nbformat": 4,
 "nbformat_minor": 5
}
